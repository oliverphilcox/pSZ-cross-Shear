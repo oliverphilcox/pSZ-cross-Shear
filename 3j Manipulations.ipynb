{
 "cells": [
  {
   "cell_type": "markdown",
   "metadata": {},
   "source": [
    "### Julia code to compute the array of 3j symbols needed in the main code.\n",
    "\n",
    "This computes:\n",
    "\\begin{eqnarray}\n",
    "    \\begin{pmatrix} \\ell & \\ell_1 & \\ell_2 \\\\ 2 & -2 & 0\\end{pmatrix}\n",
    "\\end{eqnarray}\n",
    "and\n",
    "\\begin{eqnarray}\n",
    "    \\begin{pmatrix} \\ell & \\ell_1 & \\ell_2 \\\\ 0 & 0 & 0\\end{pmatrix}\n",
    "\\end{eqnarray}\n",
    "for all $\\ell\\in[1,100]$ and $\\ell_{1,2}\\in[1,10000]$. It relies on Zack Li's [WignerFamilies](https://github.com/xzackli/WignerFamilies.jl) code, which will need to be installed before running the below."
   ]
  },
  {
   "cell_type": "code",
   "execution_count": 2,
   "metadata": {},
   "outputs": [],
   "source": [
    "using WignerFamilies\n",
    "using NPZ"
   ]
  },
  {
   "cell_type": "markdown",
   "metadata": {},
   "source": [
    "#### Create array of 3j symbols"
   ]
  },
  {
   "cell_type": "code",
   "execution_count": 3,
   "metadata": {},
   "outputs": [],
   "source": [
    "lowl_max = 100\n",
    "highl_max = 10000\n",
    "\n",
    "wig_array_psz = zeros(Float64,lowl_max,highl_max,2*lowl_max+1)\n",
    "wig_array_ksz = zeros(Float64,lowl_max,highl_max,2*lowl_max+1)\n",
    "for l in 1:lowl_max\n",
    "    for l1 in 1:highl_max\n",
    "        w3j_psz = wigner3j_f(l, l1, 2, -2) \n",
    "        wig_array_psz[l,l1,1:length(w3j_psz)] = w3j_psz\n",
    "        w3j_ksz = wigner3j_f(l, l1, 0, 0) \n",
    "        wig_array_ksz[l,l1,1:length(w3j_ksz)] = w3j_ksz\n",
    "    end\n",
    "end"
   ]
  },
  {
   "cell_type": "markdown",
   "metadata": {},
   "source": [
    "#### Write to disk"
   ]
  },
  {
   "cell_type": "code",
   "execution_count": 4,
   "metadata": {},
   "outputs": [],
   "source": [
    "npzwrite(\"/Users/ophilcox/Desktop/wig3j_array_psz.npz\",wig_array_psz)\n",
    "npzwrite(\"/Users/ophilcox/Desktop/wig3j_array_ksz.npz\",wig_array_ksz)"
   ]
  }
 ],
 "metadata": {
  "kernelspec": {
   "display_name": "Julia 1.6.2",
   "language": "julia",
   "name": "julia-1.6"
  },
  "language_info": {
   "file_extension": ".jl",
   "mimetype": "application/julia",
   "name": "julia",
   "version": "1.6.2"
  }
 },
 "nbformat": 4,
 "nbformat_minor": 4
}
