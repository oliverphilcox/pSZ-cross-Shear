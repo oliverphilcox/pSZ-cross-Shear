{
 "cells": [
  {
   "cell_type": "markdown",
   "metadata": {},
   "source": [
    "### Julia code to compute the array of 3j symbols needed in the main code.\n",
    "\n",
    "This computes:\n",
    "\\begin{eqnarray}\n",
    "    \\begin{pmatrix} \\ell & \\ell_1 & \\ell_2 \\\\ 2 & -2 & 0\\end{pmatrix}\n",
    "\\end{eqnarray}\n",
    "for all $\\ell\\in[2,100"
   ]
  },
  {
   "cell_type": "code",
   "execution_count": 2,
   "metadata": {},
   "outputs": [],
   "source": [
    "using WignerFamilies\n",
    "using NPZ"
   ]
  },
  {
   "cell_type": "markdown",
   "metadata": {},
   "source": [
    "#### create array of 3j symbols"
   ]
  },
  {
   "cell_type": "code",
   "execution_count": 3,
   "metadata": {},
   "outputs": [],
   "source": [
    "lowl_max = 100\n",
    "highl_max = 10000\n",
    "\n",
    "wig_array = zeros(Float64,lowl_max,highl_max,2*lowl_max+1)\n",
    "for l in 1:lowl_max\n",
    "    for l1 in 1:highl_max\n",
    "        w3j = wigner3j_f(l, l1, 2, -2) \n",
    "        wig_array[l,l1,1:length(w3j)] = w3j\n",
    "    end\n",
    "end"
   ]
  },
  {
   "cell_type": "markdown",
   "metadata": {},
   "source": [
    "#### write to disk"
   ]
  },
  {
   "cell_type": "code",
   "execution_count": null,
   "metadata": {},
   "outputs": [],
   "source": [
    "npzwrite(\"wig3j_array.npz\",wig_array)"
   ]
  }
 ],
 "metadata": {
  "kernelspec": {
   "display_name": "Julia 1.5.0",
   "language": "julia",
   "name": "julia-1.5"
  },
  "language_info": {
   "file_extension": ".jl",
   "mimetype": "application/julia",
   "name": "julia",
   "version": "1.5.0"
  }
 },
 "nbformat": 4,
 "nbformat_minor": 4
}
